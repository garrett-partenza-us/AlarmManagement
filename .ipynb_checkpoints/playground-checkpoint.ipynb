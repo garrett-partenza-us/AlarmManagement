{
 "cells": [
  {
   "cell_type": "code",
   "execution_count": 1,
   "id": "dbb082ca",
   "metadata": {},
   "outputs": [
    {
     "name": "stdout",
     "output_type": "stream",
     "text": [
      "WARNING:tensorflow:From /home/ec2-user/anaconda3/envs/tensorflow_p36/cpu/lib/python3.6/site-packages/tensorflow_core/__init__.py:1473: The name tf.estimator.inputs is deprecated. Please use tf.compat.v1.estimator.inputs instead.\n",
      "\n"
     ]
    },
    {
     "name": "stderr",
     "output_type": "stream",
     "text": [
      "Using TensorFlow backend.\n"
     ]
    }
   ],
   "source": [
    "#imports\n",
    "from tensorflow.keras.models import Sequential\n",
    "from tensorflow.keras.layers import Dense\n",
    "from tensorflow.keras.layers import LSTM\n",
    "from tensorflow.keras.layers import BatchNormalization\n",
    "from tensorflow.keras import regularizers\n",
    "import keras.backend.tensorflow_backend as tfb\n",
    "import numpy as np\n",
    "from tensorflow.keras.callbacks import EarlyStopping\n",
    "import matplotlib.pyplot as plt\n",
    "from tensorflow import keras\n",
    "import tensorflow as tf\n",
    "import random\n",
    "from sklearn.model_selection import train_test_split\n",
    "from tensorflow.keras import metrics "
   ]
  },
  {
   "cell_type": "code",
   "execution_count": 2,
   "id": "74782d45",
   "metadata": {},
   "outputs": [
    {
     "name": "stdout",
     "output_type": "stream",
     "text": [
      "downloading features...\n",
      "257.52050280570984\n",
      "downloading labels...\n",
      "32.83607339859009\n"
     ]
    }
   ],
   "source": [
    "#get normalized data from s3\n",
    "import pandas as pd\n",
    "import time\n",
    "start = time.time()\n",
    "print(\"downloading features...\")\n",
    "features = pd.read_csv('s3://tennessee-eastman-process-alarm-management-dataset/data/sensors_original.csv')\n",
    "print(time.time()-start)\n",
    "start = time.time()\n",
    "print(\"downloading labels...\")\n",
    "labels = pd.read_csv('s3://tennessee-eastman-process-alarm-management-dataset/data/alarms_filtered.csv')\n",
    "print(time.time()-start)"
   ]
  },
  {
   "cell_type": "code",
   "execution_count": 3,
   "id": "13784178",
   "metadata": {},
   "outputs": [],
   "source": [
    "import keras.backend as K\n",
    "def weighted_binary_crossentropy(target, output):\n",
    "    \"\"\"\n",
    "    Weighted binary crossentropy between an output tensor \n",
    "    and a target tensor. POS_WEIGHT is used as a multiplier \n",
    "    for the positive targets.\n",
    "\n",
    "    Combination of the following functions:\n",
    "    * keras.losses.binary_crossentropy\n",
    "    * keras.backend.tensorflow_backend.binary_crossentropy\n",
    "    * tf.nn.weighted_cross_entropy_with_logits\n",
    "    \"\"\"\n",
    "    # transform back to logits\n",
    "    _epsilon = tfb._to_tensor(tfb.epsilon(), output.dtype.base_dtype)\n",
    "    output = tf.clip_by_value(output, _epsilon, 1 - _epsilon)\n",
    "    output = tf.log(output / (1 - output))\n",
    "    # compute weighted loss\n",
    "    loss = tf.nn.weighted_cross_entropy_with_logits(targets=target,\n",
    "                                                    logits=output,\n",
    "                                                    pos_weight=POS_WEIGHT)\n",
    "    return tf.reduce_mean(loss, axis=-1)"
   ]
  },
  {
   "cell_type": "code",
   "execution_count": 4,
   "id": "3befa507",
   "metadata": {},
   "outputs": [
    {
     "name": "stdout",
     "output_type": "stream",
     "text": [
      "WARNING:tensorflow:From /home/ec2-user/anaconda3/envs/tensorflow_p36/cpu/lib/python3.6/site-packages/tensorflow_core/python/ops/resource_variable_ops.py:1630: calling BaseResourceVariable.__init__ (from tensorflow.python.ops.resource_variable_ops) with constraint is deprecated and will be removed in a future version.\n",
      "Instructions for updating:\n",
      "If using Keras pass *_constraint arguments to layers.\n",
      "WARNING:tensorflow:From <ipython-input-3-9b39ac0a0237>:20: calling weighted_cross_entropy_with_logits (from tensorflow.python.ops.nn_impl) with targets is deprecated and will be removed in a future version.\n",
      "Instructions for updating:\n",
      "targets is deprecated, use labels instead\n",
      "Model: \"sequential\"\n",
      "_________________________________________________________________\n",
      "Layer (type)                 Output Shape              Param #   \n",
      "=================================================================\n",
      "lstm (LSTM)                  (None, 90, 256)           346112    \n",
      "_________________________________________________________________\n",
      "batch_normalization (BatchNo (None, 90, 256)           1024      \n",
      "_________________________________________________________________\n",
      "lstm_1 (LSTM)                (None, 256)               525312    \n",
      "_________________________________________________________________\n",
      "batch_normalization_1 (Batch (None, 256)               1024      \n",
      "_________________________________________________________________\n",
      "dense (Dense)                (None, 256)               65792     \n",
      "_________________________________________________________________\n",
      "dense_1 (Dense)              (None, 128)               32896     \n",
      "_________________________________________________________________\n",
      "dense_2 (Dense)              (None, 81)                10449     \n",
      "=================================================================\n",
      "Total params: 982,609\n",
      "Trainable params: 981,585\n",
      "Non-trainable params: 1,024\n",
      "_________________________________________________________________\n"
     ]
    }
   ],
   "source": [
    "model = Sequential()\n",
    "lookback = 90\n",
    "batch_size = 128\n",
    "testcases = 250000\n",
    "POS_WEIGHT = 10\n",
    "#LSTM 1 returns full sequence\n",
    "model.add(\n",
    "    LSTM(\n",
    "        256, \n",
    "        input_shape=(lookback, 81),\n",
    "        activation='tanh',\n",
    "        recurrent_activation='sigmoid',\n",
    "        stateful=False, \n",
    "        recurrent_dropout=0.2,\n",
    "        return_sequences=True,\n",
    "        recurrent_regularizer=regularizers.l2(l=0.001),\n",
    "        kernel_regularizer=regularizers.l2(l=0.001),\n",
    "        bias_regularizer=regularizers.l2(l=0.001)\n",
    "    )\n",
    ")\n",
    "\n",
    "#Batch norm layer\n",
    "model.add(\n",
    "    BatchNormalization\n",
    "    (\n",
    "        axis=-1,\n",
    "        momentum=0.99,\n",
    "        epsilon=0.001,\n",
    "        center=True,\n",
    "        scale=True,\n",
    "        beta_initializer=\"zeros\",\n",
    "        gamma_initializer=\"ones\",\n",
    "        moving_mean_initializer=\"zeros\",\n",
    "        moving_variance_initializer=\"ones\",\n",
    "        beta_regularizer=None,\n",
    "        gamma_regularizer=None,\n",
    "        beta_constraint=None,\n",
    "        gamma_constraint=None\n",
    "    )\n",
    ")\n",
    "\n",
    "#LSTM 2 return last output only\n",
    "model.add(\n",
    "    LSTM(\n",
    "        256, \n",
    "        input_shape=(81, lookback),\n",
    "        activation='tanh',\n",
    "        recurrent_activation='sigmoid',\n",
    "        stateful=False, \n",
    "        recurrent_dropout=0.2,\n",
    "        return_sequences=False,\n",
    "        recurrent_regularizer=regularizers.l2(l=0.001),\n",
    "        kernel_regularizer=regularizers.l2(l=0.001),\n",
    "        bias_regularizer=regularizers.l2(l=0.001)\n",
    "    )\n",
    ")\n",
    "\n",
    "#Batch norm layer\n",
    "model.add(\n",
    "    BatchNormalization\n",
    "    (\n",
    "        axis=-1,\n",
    "        momentum=0.99,\n",
    "        epsilon=0.001,\n",
    "        center=True,\n",
    "        scale=True,\n",
    "        beta_initializer=\"zeros\",\n",
    "        gamma_initializer=\"ones\",\n",
    "        moving_mean_initializer=\"zeros\",\n",
    "        moving_variance_initializer=\"ones\",\n",
    "        beta_regularizer=None,\n",
    "        gamma_regularizer=None,\n",
    "        beta_constraint=None,\n",
    "        gamma_constraint=None\n",
    "    )\n",
    ")\n",
    "\n",
    "#Hidden layers\n",
    "model.add(Dense(256, activation='relu'))\n",
    "model.add(Dense(128, activation='relu'))\n",
    "\n",
    "#Prediction layer\n",
    "model.add(Dense(81, activation='sigmoid'))\n",
    "\n",
    "#Compile model\n",
    "model.compile(\n",
    "    loss=weighted_binary_crossentropy, \n",
    "    optimizer='adam', \n",
    "    metrics=[\n",
    "        metrics.Accuracy(),\n",
    "        metrics.AUC(), \n",
    "        metrics.CategoricalAccuracy(),\n",
    "        metrics.Precision(),\n",
    "        metrics.Recall(),\n",
    "        metrics.FalseNegatives(),\n",
    "        metrics.FalsePositives(),\n",
    "        metrics.TrueNegatives(),\n",
    "        metrics.TruePositives()\n",
    "    ]\n",
    ")\n",
    "\n",
    "model.summary()"
   ]
  },
  {
   "cell_type": "code",
   "execution_count": 5,
   "id": "d20ffccc",
   "metadata": {},
   "outputs": [],
   "source": [
    "#convert normalized data to sequences, shuffle, and reduce to desired testcase count\n",
    "timeseries_data = []\n",
    "for i in range(1,51):\n",
    "    x = features[features['TEST_NO']==i].drop(columns=['Unnamed: 0', 'TEST_NO']).to_numpy()\n",
    "    y = labels[labels['TEST_NO']==i].drop(columns=['Unnamed: 0', 'TEST_NO']).to_numpy()\n",
    "    for state in range(lookback, len(x)):\n",
    "        timeseries_data.append((x[state-lookback:state],y[state]))\n",
    "random.shuffle(timeseries_data)\n",
    "timeseries_data = random.sample(timeseries_data, testcases)"
   ]
  },
  {
   "cell_type": "code",
   "execution_count": 6,
   "id": "0c49cc15",
   "metadata": {},
   "outputs": [],
   "source": [
    "#split train and test\n",
    "x_train, x_test, y_train, y_test = train_test_split(\n",
    "    list(example[0] for example in timeseries_data),\n",
    "    list(example[1] for example in timeseries_data),\n",
    "    test_size=0.20, \n",
    "    random_state=777, \n",
    "    shuffle=True\n",
    ")"
   ]
  },
  {
   "cell_type": "code",
   "execution_count": 7,
   "id": "8bc8c6a6",
   "metadata": {},
   "outputs": [],
   "source": [
    "#free up memory\n",
    "del timeseries_data\n",
    "del features\n",
    "del labels"
   ]
  },
  {
   "cell_type": "code",
   "execution_count": 8,
   "id": "e4f3dd43",
   "metadata": {},
   "outputs": [],
   "source": [
    "#convert train and test splits to numpy arrays\n",
    "x_train = np.array(x_train, dtype=np.float16)\n",
    "y_train = np.array(y_train, dtype=np.int8)\n",
    "x_test = np.array(x_test, dtype=np.float16)\n",
    "y_test = np.array(y_test, dtype=np.int8)"
   ]
  },
  {
   "cell_type": "code",
   "execution_count": 9,
   "id": "681d6e46",
   "metadata": {},
   "outputs": [
    {
     "data": {
      "text/plain": [
       "False"
      ]
     },
     "execution_count": 9,
     "metadata": {},
     "output_type": "execute_result"
    }
   ],
   "source": [
    "tf.test.is_gpu_available()"
   ]
  },
  {
   "cell_type": "code",
   "execution_count": 10,
   "id": "33795ac7",
   "metadata": {},
   "outputs": [],
   "source": [
    "#configure hardware for training\n",
    "config = tf.ConfigProto(device_count = {'GPU': 0 , 'CPU': 16} ) \n",
    "sess = tf.Session(config=config) \n",
    "keras.backend.set_session(sess)"
   ]
  },
  {
   "cell_type": "code",
   "execution_count": 11,
   "id": "31281fcf",
   "metadata": {},
   "outputs": [
    {
     "name": "stdout",
     "output_type": "stream",
     "text": [
      "WARNING:tensorflow:From /home/ec2-user/anaconda3/envs/tensorflow_p36/lib/python3.6/site-packages/horovod/tensorflow/__init__.py:163: The name tf.global_variables is deprecated. Please use tf.compat.v1.global_variables instead.\n",
      "\n",
      "WARNING:tensorflow:From /home/ec2-user/anaconda3/envs/tensorflow_p36/lib/python3.6/site-packages/horovod/tensorflow/__init__.py:189: The name tf.get_default_graph is deprecated. Please use tf.compat.v1.get_default_graph instead.\n",
      "\n",
      "[2021-08-20 04:22:09.746 ip-172-16-142-200:32222 INFO utils.py:27] RULE_JOB_STOP_SIGNAL_FILENAME: None\n",
      "[2021-08-20 04:22:09.774 ip-172-16-142-200:32222 INFO profiler_config_parser.py:102] Unable to find config at /opt/ml/input/config/profilerconfig.json. Profiler is disabled.\n",
      "WARNING:tensorflow:From /home/ec2-user/anaconda3/envs/tensorflow_p36/cpu/lib/python3.6/site-packages/tensorflow_core/python/ops/math_grad.py:1424: where (from tensorflow.python.ops.array_ops) is deprecated and will be removed in a future version.\n",
      "Instructions for updating:\n",
      "Use tf.where in 2.0, which has the same broadcast rule as np.where\n",
      "Train on 200000 samples, validate on 50000 samples\n",
      "Epoch 1/20\n",
      "200000/200000 [==============================] - 3040s 15ms/sample - loss: -3.6732 - accuracy: 0.3695 - auc: 0.7357 - categorical_accuracy: 0.4446 - precision: 0.7661 - recall: 0.4820 - false_negatives: 407696.0000 - false_positives: 115771.0000 - true_negatives: 15297247.0000 - true_positives: 379286.0000 - val_loss: -3.8828 - val_accuracy: 0.3896 - val_auc: 0.7311 - val_categorical_accuracy: 0.4174 - val_precision: 0.6442 - val_recall: 0.4749 - val_false_negatives: 103587.0000 - val_false_positives: 51759.0000 - val_true_negatives: 3800954.0000 - val_true_positives: 93700.0000\n",
      "Epoch 2/20\n",
      "200000/200000 [==============================] - 3066s 15ms/sample - loss: -3.9671 - accuracy: 0.3949 - auc: 0.7417 - categorical_accuracy: 0.4556 - precision: 0.8530 - recall: 0.4880 - false_negatives: 402924.0000 - false_positives: 66195.0000 - true_negatives: 15346823.0000 - true_positives: 384058.0000 - val_loss: -2.9460 - val_accuracy: 0.2986 - val_auc: 0.7259 - val_categorical_accuracy: 0.0555 - val_precision: 0.2386 - val_recall: 0.4908 - val_false_negatives: 100467.0000 - val_false_positives: 308888.0000 - val_true_negatives: 3543825.0000 - val_true_positives: 96820.0000\n",
      "Epoch 00002: early stopping\n"
     ]
    }
   ],
   "source": [
    "#train and save model\n",
    "es = EarlyStopping(monitor='val_loss', mode='min', verbose=1)\n",
    "history = model.fit(x_train, y_train, validation_data=(x_test, y_test), epochs=20, batch_size=batch_size, verbose=1, callbacks=[es])"
   ]
  },
  {
   "cell_type": "code",
   "execution_count": 12,
   "id": "37ec7909",
   "metadata": {},
   "outputs": [],
   "source": [
    "model.save('500000t-128b-180l-20e-adam-weightedbinarycrossentropy')"
   ]
  },
  {
   "cell_type": "code",
   "execution_count": 13,
   "id": "01b5f107",
   "metadata": {},
   "outputs": [
    {
     "name": "stdout",
     "output_type": "stream",
     "text": [
      "dict_keys(['loss', 'accuracy', 'auc', 'categorical_accuracy', 'precision', 'recall', 'false_negatives', 'false_positives', 'true_negatives', 'true_positives', 'val_loss', 'val_accuracy', 'val_auc', 'val_categorical_accuracy', 'val_precision', 'val_recall', 'val_false_negatives', 'val_false_positives', 'val_true_negatives', 'val_true_positives'])\n"
     ]
    }
   ],
   "source": [
    "print(history.history.keys())"
   ]
  },
  {
   "cell_type": "code",
   "execution_count": null,
   "id": "5e98503d",
   "metadata": {},
   "outputs": [],
   "source": []
  }
 ],
 "metadata": {
  "kernelspec": {
   "display_name": "conda_tensorflow_p36",
   "language": "python",
   "name": "conda_tensorflow_p36"
  },
  "language_info": {
   "codemirror_mode": {
    "name": "ipython",
    "version": 3
   },
   "file_extension": ".py",
   "mimetype": "text/x-python",
   "name": "python",
   "nbconvert_exporter": "python",
   "pygments_lexer": "ipython3",
   "version": "3.6.13"
  }
 },
 "nbformat": 4,
 "nbformat_minor": 5
}
